{
 "cells": [
  {
   "cell_type": "code",
   "execution_count": 1,
   "metadata": {},
   "outputs": [],
   "source": [
    "import os \n",
    "\n",
    "os.chdir('C:/Users/rfuchs/Documents/GitHub/M1DGMM')\n",
    "\n",
    "from copy import deepcopy\n",
    "\n",
    "from sklearn.metrics import precision_score\n",
    "from sklearn.metrics import confusion_matrix\n",
    "from sklearn.preprocessing import LabelEncoder \n",
    "from sklearn.preprocessing import OneHotEncoder\n",
    "\n",
    "import pandas as pd\n",
    "\n",
    "from gower import gower_matrix\n",
    "from sklearn.metrics import silhouette_score\n",
    "\n",
    "\n",
    "from MIAMI import miami\n",
    "from init_params import dim_reduce_init\n",
    "from metrics import misc\n",
    "from data_preprocessing import gen_categ_as_bin_dataset, \\\n",
    "        compute_nj\n",
    "\n",
    "\n",
    "import autograd.numpy as np\n",
    "from autograd.numpy.random import uniform"
   ]
  },
  {
   "cell_type": "code",
   "execution_count": 2,
   "metadata": {},
   "outputs": [],
   "source": [
    "###############################################################################\n",
    "###############         Heart    vizualisation          #######################\n",
    "###############################################################################\n",
    "\n",
    "#===========================================#\n",
    "# Importing data\n",
    "#===========================================#\n",
    "os.chdir('C:/Users/rfuchs/Documents/These/Stats/mixed_dgmm/datasets')\n",
    "\n",
    "heart = pd.read_csv('heart_statlog/heart.csv', sep = ' ', header = None)\n",
    "y = heart.iloc[:,:-1]\n",
    "labels = heart.iloc[:,-1]\n",
    "labels = np.where(labels == 1, 0, labels)\n",
    "labels = np.where(labels == 2, 1, labels)\n",
    "\n",
    "y = y.infer_objects()\n",
    "numobs = len(y)\n",
    "\n",
    "# Too many zeros for this \"continuous variable\". Add a little noise to avoid \n",
    "# the correlation matrix for each group to blow up\n",
    "uniform_draws = uniform(0, 1E-12, numobs)\n",
    "y.iloc[:, 9] = np.where(y[9] == 0, uniform_draws, y[9])\n",
    "\n",
    "n_clusters = len(np.unique(labels))\n",
    "p = y.shape[1]\n"
   ]
  },
  {
   "cell_type": "code",
   "execution_count": 3,
   "metadata": {},
   "outputs": [],
   "source": [
    "#===========================================#\n",
    "# Formating the data\n",
    "#===========================================#\n",
    "var_distrib = np.array(['continuous', 'bernoulli', 'categorical', 'continuous',\\\n",
    "                        'continuous', 'bernoulli', 'categorical', 'continuous',\\\n",
    "                        'bernoulli', 'continuous', 'ordinal', 'ordinal',\\\n",
    "                        'categorical']) \n",
    "    \n",
    "# Ordinal data already encoded\n",
    " \n",
    "y_categ_non_enc = deepcopy(y)\n",
    "vd_categ_non_enc = deepcopy(var_distrib)\n",
    "\n",
    "# Encode categorical datas\n",
    "le = LabelEncoder()\n",
    "for col_idx, colname in enumerate(y.columns):\n",
    "    if var_distrib[col_idx] == 'categorical': \n",
    "        y[colname] = le.fit_transform(y[colname])\n",
    "\n",
    "# Encode binary data\n",
    "le = LabelEncoder()\n",
    "for col_idx, colname in enumerate(y.columns):\n",
    "    if var_distrib[col_idx] == 'bernoulli': \n",
    "        y[colname] = le.fit_transform(y[colname])\n",
    "    \n",
    "enc = OneHotEncoder(sparse = False, drop = 'first')\n",
    "labels_oh = enc.fit_transform(np.array(labels).reshape(-1,1)).flatten()\n",
    "\n",
    "nj, nj_bin, nj_ord, nj_categ = compute_nj(y, var_distrib)\n",
    "y_np = y.values\n",
    "nb_cont = np.sum(var_distrib == 'continuous')\n",
    "\n",
    "p_new = y.shape[1]\n",
    "\n",
    "\n",
    "# Feature category (cf)\n",
    "cf_non_enc = np.logical_or(vd_categ_non_enc == 'categorical', vd_categ_non_enc == 'bernoulli')\n",
    "\n",
    "# Non encoded version of the dataset:\n",
    "y_nenc_typed = y_categ_non_enc.astype(np.object)\n",
    "y_np_nenc = y_nenc_typed.values\n",
    "\n",
    "# Defining distances over the non encoded features\n",
    "dm = gower_matrix(y_nenc_typed, cat_features = cf_non_enc) \n",
    "\n",
    "dtype = {y.columns[j]: np.float64 if (var_distrib[j] != 'bernoulli') and \\\n",
    "        (var_distrib[j] != 'categorical') else np.str for j in range(p_new)}\n",
    "\n",
    "y = y.astype(dtype, copy=True)"
   ]
  },
  {
   "cell_type": "code",
   "execution_count": 4,
   "metadata": {},
   "outputs": [],
   "source": [
    "#===========================================#\n",
    "# Defining hyperparameters\n",
    "#===========================================# \n",
    "\n",
    "r = np.array([3, 1])\n",
    "numobs = len(y)\n",
    "k = [n_clusters]\n",
    "\n",
    "seed = 1\n",
    "init_seed = 2\n",
    "    \n",
    "eps = 1E-05\n",
    "it = 50\n",
    "maxstep = 100"
   ]
  },
  {
   "cell_type": "code",
   "execution_count": null,
   "metadata": {},
   "outputs": [],
   "source": [
    "#===========================================#\n",
    "# Defining acceptance rule\n",
    "#===========================================# "
   ]
  },
  {
   "cell_type": "markdown",
   "metadata": {},
   "source": [
    "The user specifies a range for each variable to lie in: \\[min\\_value, max\\_value\\].\\\n",
    "An observation is accepted if all of its variables lie in the specified range.\\\n",
    "A set of ranges is called a rule.\\\n",
    "Several rules can be specified in order to select different areas in the observations space.\\\n",
    "To select a particular value for a non-continuous variable (let's say 0), the range is set at \\[0,0\\]. \\\n",
    "Example of rule for 3 variables, with the first 2 variables that are continuous, and a categorical variable:\\\n",
    "\\[-1.3, 2.5\\], \\[-5.1, 5.1\\], \\[0,0\\]\\\n",
    "Observations with variable 1 in \\[-1.3, 2.5\\], with variable 2 in \\[-5.1, 5.1\\] and with variable 3 taking modality \\[0,0\\] are selected. \\\n",
    "If one wants observations that can take more than one modality for the categorical variable, let's say 0 and 2, one can specify the following second rule: \\\n",
    "\\[-1.3, 2.5\\], \\[-5.1, 5.1\\], \\[3,3\\]. \\\n",
    "The two rules \\[-1.3, 2.5\\], \\[-5.1, 5.1\\], \\[0,0\\] and \\[-1.3, 2.5\\], \\[-5.1, 5.1\\], \\[3,3\\] are passed to MIAMI to properly select the observations. "
   ]
  },
  {
   "cell_type": "code",
   "execution_count": 5,
   "metadata": {},
   "outputs": [],
   "source": [
    "num_rules = 5\n",
    "# The rules are stacked together in a numpy array of shape (2, number of rules, number of variables in the dataset).\n",
    "\n",
    "# Specify 4 impossible rules: All observations have to be equal to 0 and a very permissive rule, all observations\n",
    "# required to be in [-10000, 10000] to test the algorithm\n",
    "\n",
    "authorized_ranges = np.empty((2, num_rules, p_new))\n",
    "authorized_ranges[0] = 0\n",
    "authorized_ranges[1] = 0\n",
    "\n",
    "authorized_ranges[0,0] = -10000\n",
    "authorized_ranges[1,0] = 10000\n",
    "\n",
    "target_nb_pseudo_obs = 500"
   ]
  },
  {
   "cell_type": "code",
   "execution_count": 6,
   "metadata": {},
   "outputs": [
    {
     "name": "stdout",
     "output_type": "stream",
     "text": [
      "0\n",
      "[-3527.350312558943]\n",
      "1\n",
      "[-3527.350312558943, -3494.2783579420393]\n",
      "2\n",
      "[-3527.350312558943, -3494.2783579420393, -3488.103158087969]\n",
      "3\n",
      "[-3527.350312558943, -3494.2783579420393, -3488.103158087969, -3468.711538639114]\n",
      "4\n",
      "[-3527.350312558943, -3494.2783579420393, -3488.103158087969, -3468.711538639114, -3467.064254697816]\n",
      "5\n",
      "[-3527.350312558943, -3494.2783579420393, -3488.103158087969, -3468.711538639114, -3467.064254697816, -3464.2390609269255]\n",
      "6\n",
      "[-3527.350312558943, -3494.2783579420393, -3488.103158087969, -3468.711538639114, -3467.064254697816, -3464.2390609269255, -3463.6173028883454]\n",
      "7\n",
      "[-3527.350312558943, -3494.2783579420393, -3488.103158087969, -3468.711538639114, -3467.064254697816, -3464.2390609269255, -3463.6173028883454, -3466.854975981989]\n",
      "8\n",
      "[-3527.350312558943, -3494.2783579420393, -3488.103158087969, -3468.711538639114, -3467.064254697816, -3464.2390609269255, -3463.6173028883454, -3466.854975981989, -3466.5504112053186]\n",
      "9\n",
      "[-3527.350312558943, -3494.2783579420393, -3488.103158087969, -3468.711538639114, -3467.064254697816, -3464.2390609269255, -3463.6173028883454, -3466.854975981989, -3466.5504112053186, -3465.695277648792]\n",
      "10\n",
      "[-3527.350312558943, -3494.2783579420393, -3488.103158087969, -3468.711538639114, -3467.064254697816, -3464.2390609269255, -3463.6173028883454, -3466.854975981989, -3466.5504112053186, -3465.695277648792, -3465.461631084396]\n",
      "11\n",
      "[-3527.350312558943, -3494.2783579420393, -3488.103158087969, -3468.711538639114, -3467.064254697816, -3464.2390609269255, -3463.6173028883454, -3466.854975981989, -3466.5504112053186, -3465.695277648792, -3465.461631084396, -3467.800399205382]\n",
      "12\n",
      "[-3527.350312558943, -3494.2783579420393, -3488.103158087969, -3468.711538639114, -3467.064254697816, -3464.2390609269255, -3463.6173028883454, -3466.854975981989, -3466.5504112053186, -3465.695277648792, -3465.461631084396, -3467.800399205382, -3467.868826564085]\n"
     ]
    }
   ],
   "source": [
    "#===========================================#\n",
    "# Running the algorithm\n",
    "#===========================================# \n",
    "\n",
    "import matplotlib .pyplot as plt\n",
    "prince_init = dim_reduce_init(y, n_clusters, k, r, nj, var_distrib, seed = None,\\\n",
    "                              use_famd=True)\n",
    "out = miami(y_np, n_clusters, r, k, prince_init, var_distrib, nj, authorized_ranges,\\\n",
    "            target_nb_pseudo_obs, it, eps, maxstep, seed, perform_selec = False)"
   ]
  },
  {
   "cell_type": "code",
   "execution_count": 7,
   "metadata": {},
   "outputs": [],
   "source": [
    "# Plotting utilities\n",
    "varnames = ['age', 'sex', 'chest pain type', 'resting blood pressure',\\\n",
    "            'serum cholesterol in mg/dl', 'fasting blood sugar > 120 mg/dl',\\\n",
    "            'resting electrocardiographic results', 'maximum heart rate achieved',\\\n",
    "            'exercise induced angina', 'ST depression induced by exercise relative to rest',\\\n",
    "            'the slope of the peak exercise ST segment',\\\n",
    "            'number of major vessels (0-3)', 'thal']\n",
    "\n",
    "y_new = out['y'][len(y):]"
   ]
  },
  {
   "cell_type": "code",
   "execution_count": 8,
   "metadata": {},
   "outputs": [
    {
     "data": {
      "image/png": "[encoded data removed]",
      "text/plain": [
       "<Figure size 432x288 with 1 Axes>"
      ]
     },
     "metadata": {
      "needs_background": "light"
     },
     "output_type": "display_data"
    },
    {
     "data": {
      "image/png": "[encoded data removed]",
      "text/plain": [
       "<Figure size 432x288 with 1 Axes>"
      ]
     },
     "metadata": {
      "needs_background": "light"
     },
     "output_type": "display_data"
    }
   ],
   "source": [
    "#===========================================#\n",
    "# Visualisation of the resultts\n",
    "#===========================================# \n",
    "\n",
    "# Choose the variables number\n",
    "var1 = -1\n",
    "var2 = 4\n",
    "\n",
    "\n",
    "# Check for 1D distribution\n",
    "plt.hist(y_np[:,var1], density = True)\n",
    "plt.hist(y_new[:,var1], density = True)\n",
    "plt.xlabel(varnames[var1])\n",
    "plt.ylabel('Number of observations')\n",
    "plt.legend(['Genuine observations', 'Synthetic observations'])\n",
    "plt.title('1D projections of genuine and synthetic obervations')\n",
    "plt.show()\n",
    "\n",
    "\n",
    "# Check for 2D distribution\n",
    "plt.scatter(y_np[:,var1], y_np[:,var2],  label = 'Genuine observations', s = 1)\n",
    "plt.scatter(y_new[:,var1], y_new[:,var2], label = 'Synthetic observations', s = 0.5)\n",
    "plt.xlabel(varnames[var1])\n",
    "plt.ylabel(varnames[var2])\n",
    "plt.legend(['Genuine observations', 'Synthetic observations'])\n",
    "plt.title('2D projections of genuine and synthetic obervations')\n",
    "plt.show()\n"
   ]
  }
 ],
 "metadata": {
  "kernelspec": {
   "display_name": "Python 3",
   "language": "python",
   "name": "python3"
  },
  "language_info": {
   "codemirror_mode": {
    "name": "ipython",
    "version": 3
   },
   "file_extension": ".py",
   "mimetype": "text/x-python",
   "name": "python",
   "nbconvert_exporter": "python",
   "pygments_lexer": "ipython3",
   "version": "3.7.6"
  }
 },
 "nbformat": 4,
 "nbformat_minor": 4
}
